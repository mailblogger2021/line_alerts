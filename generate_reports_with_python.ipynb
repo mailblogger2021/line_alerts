{
 "cells": [
  {
   "cell_type": "markdown",
   "metadata": {},
   "source": [
    "# Overview"
   ]
  },
  {
   "cell_type": "markdown",
   "metadata": {},
   "source": [
    "# PDF"
   ]
  },
  {
   "cell_type": "code",
   "execution_count": 2,
   "metadata": {},
   "outputs": [],
   "source": [
    "from fpdf import FPDF\n",
    "import pandas as pd"
   ]
  },
  {
   "cell_type": "code",
   "execution_count": 3,
   "metadata": {},
   "outputs": [],
   "source": [
    "def output_df_to_pdf(title,pdf, df):\n",
    "    pdf.set_font('Arial', 'B', 16)\n",
    "    pdf.cell(40, 20, title, ln=True, align='C')\n",
    "    pdf.ln(2)\n",
    "    table_cell_width = 25\n",
    "    table_cell_height = 6\n",
    "    pdf.set_font('Arial', 'B', 6)\n",
    "    cols = df.columns\n",
    "    for col in cols:\n",
    "        pdf.cell(table_cell_width, table_cell_height, col, align='C', border=1)\n",
    "    pdf.ln(table_cell_height)\n",
    "    pdf.set_font('Arial', '', 6)\n",
    "    for row in df.itertuples():\n",
    "        for col in cols:\n",
    "            value = str(getattr(row, col))\n",
    "            pdf.cell(table_cell_width, table_cell_height, value, align='C', border=1)\n",
    "        pdf.ln(table_cell_height)\n",
    "    pdf.ln(10)"
   ]
  },
  {
   "cell_type": "code",
   "execution_count": 18,
   "metadata": {},
   "outputs": [],
   "source": [
    "pdf = FPDF(unit='mm', format=(250, 297))\n",
    "pdf.add_page()\n",
    "pdf.set_font('Arial', 'B', 16)\n",
    "days = 5"
   ]
  },
  {
   "cell_type": "code",
   "execution_count": 19,
   "metadata": {},
   "outputs": [],
   "source": [
    "alerts = pd.read_excel(\"three_line_alerts_day.xlsx\")\n",
    "\n",
    "alerts.columns = alerts.columns.astype(str)\n",
    "alerts = alerts[[\"stockname\",\"alert_date\",\"date1\",\"value1\",\"date2\",\"value2\",\"date3\",\"value3\",\"buyORsell\"]]\n",
    "numeric_cols = alerts.select_dtypes(include='number').columns\n",
    "alerts[numeric_cols] = alerts[numeric_cols].round(3)\n",
    "\n",
    "current_date = pd.Timestamp.now()\n",
    "start_date = current_date - pd.Timedelta(days=days)\n",
    "filtered_alerts = alerts[alerts['alert_date'] > start_date]\n",
    "filtered_alerts = filtered_alerts.sort_values(by='alert_date')\n",
    "\n",
    "output_df_to_pdf(\"Three Lines alert\",pdf, filtered_alerts)"
   ]
  },
  {
   "cell_type": "code",
   "execution_count": 20,
   "metadata": {},
   "outputs": [],
   "source": [
    "alerts = pd.read_excel(\"two_line_alerts_day.xlsx\")\n",
    "\n",
    "alerts.columns = alerts.columns.astype(str)\n",
    "alerts = alerts[[\"stockname\",\"alert_date\",\"date1\",\"value1\",\"date2\",\"value2\",\"buyORsell\"]]\n",
    "numeric_cols = alerts.select_dtypes(include='number').columns\n",
    "alerts[numeric_cols] = alerts[numeric_cols].round(3)\n",
    "\n",
    "current_date = pd.Timestamp.now()\n",
    "start_date = current_date - pd.Timedelta(days=days)\n",
    "filtered_alerts = alerts[alerts['alert_date'] > start_date]\n",
    "filtered_alerts = filtered_alerts.sort_values(by='alert_date')\n",
    "\n",
    "output_df_to_pdf(\"two Lines alert\",pdf, filtered_alerts)"
   ]
  },
  {
   "cell_type": "code",
   "execution_count": 21,
   "metadata": {},
   "outputs": [
    {
     "data": {
      "text/plain": [
       "''"
      ]
     },
     "execution_count": 21,
     "metadata": {},
     "output_type": "execute_result"
    }
   ],
   "source": [
    "pdf.output('fpdf_pdf_report.pdf', 'F')"
   ]
  },
  {
   "cell_type": "code",
   "execution_count": 26,
   "metadata": {},
   "outputs": [],
   "source": [
    "import datetime\n",
    "import yaml\n",
    "\n",
    "def yaml_file_edit(minutes,file_name):\n",
    "    current_time = datetime.datetime.now()\n",
    "    cron_time = current_time + datetime.timedelta(minutes=minutes)\n",
    "\n",
    "    cron_value = f\"{cron_time.minute} {cron_time.hour} {cron_time.day} {cron_time.month} *\"\n",
    "\n",
    "\n",
    "    yaml_file_path = f'.github\\\\workflows\\\\{file_name}.yml'\n",
    "    with open(yaml_file_path, 'r') as file:\n",
    "        yaml_data = yaml.safe_load(file)\n",
    "\n",
    "    yaml_data[True]['schedule'][0]['cron'] = cron_value \n",
    "    yaml_content['name'][True] = 'on'\n",
    "    \n",
    "    with open(yaml_file_path, 'w') as file:\n",
    "        yaml.dump(yaml_data, file)"
   ]
  },
  {
   "cell_type": "code",
   "execution_count": 30,
   "metadata": {},
   "outputs": [],
   "source": [
    "yaml_file_edit(50,\"day\")"
   ]
  },
  {
   "cell_type": "code",
   "execution_count": null,
   "metadata": {},
   "outputs": [],
   "source": []
  }
 ],
 "metadata": {
  "kernelspec": {
   "display_name": "Python 3",
   "language": "python",
   "name": "python3"
  },
  "language_info": {
   "codemirror_mode": {
    "name": "ipython",
    "version": 3
   },
   "file_extension": ".py",
   "mimetype": "text/x-python",
   "name": "python",
   "nbconvert_exporter": "python",
   "pygments_lexer": "ipython3",
   "version": "3.12.3"
  }
 },
 "nbformat": 4,
 "nbformat_minor": 4
}
