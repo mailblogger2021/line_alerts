{
 "cells": [
  {
   "cell_type": "markdown",
   "metadata": {},
   "source": [
    "# Overview"
   ]
  },
  {
   "cell_type": "markdown",
   "metadata": {},
   "source": [
    "# PDF"
   ]
  },
  {
   "cell_type": "code",
   "execution_count": 2,
   "metadata": {},
   "outputs": [],
   "source": [
    "from fpdf import FPDF \n",
    "import pandas as pd"
   ]
  },
  {
   "cell_type": "code",
   "execution_count": 3,
   "metadata": {},
   "outputs": [],
   "source": [
    "def output_df_to_pdf(title,pdf, df):\n",
    "    pdf.set_font('Arial', 'B', 16)\n",
    "    pdf.cell(40, 20, title, ln=True, align='C')\n",
    "    pdf.ln(2)\n",
    "    table_cell_width = 25\n",
    "    table_cell_height = 6\n",
    "    pdf.set_font('Arial', 'B', 6)\n",
    "    cols = df.columns\n",
    "    for col in cols:\n",
    "        pdf.cell(table_cell_width, table_cell_height, col, align='C', border=1)\n",
    "    pdf.ln(table_cell_height)\n",
    "    pdf.set_font('Arial', '', 6)\n",
    "    for row in df.itertuples():\n",
    "        for col in cols:\n",
    "            value = str(getattr(row, col))\n",
    "            pdf.cell(table_cell_width, table_cell_height, value, align='C', border=1)\n",
    "        pdf.ln(table_cell_height)\n",
    "    pdf.ln(10)"
   ]
  },
  {
   "cell_type": "code",
   "execution_count": 18,
   "metadata": {},
   "outputs": [],
   "source": [
    "pdf = FPDF(unit='mm', format=(250, 297))\n",
    "pdf.add_page()\n",
    "pdf.set_font('Arial', 'B', 16)\n",
    "days = 5"
   ]
  },
  {
   "cell_type": "code",
   "execution_count": 19,
   "metadata": {},
   "outputs": [],
   "source": [
    "alerts = pd.read_excel(\"three_line_alerts_day.xlsx\")\n",
    "\n",
    "alerts.columns = alerts.columns.astype(str)\n",
    "alerts = alerts[[\"stockname\",\"alert_date\",\"date1\",\"value1\",\"date2\",\"value2\",\"date3\",\"value3\",\"buyORsell\"]]\n",
    "numeric_cols = alerts.select_dtypes(include='number').columns\n",
    "alerts[numeric_cols] = alerts[numeric_cols].round(3)\n",
    "\n",
    "current_date = pd.Timestamp.now()\n",
    "start_date = current_date - pd.Timedelta(days=days)\n",
    "filtered_alerts = alerts[alerts['alert_date'] > start_date]\n",
    "filtered_alerts = filtered_alerts.sort_values(by='alert_date')\n",
    "\n",
    "output_df_to_pdf(\"Three Lines alert\",pdf, filtered_alerts)"
   ]
  },
  {
   "cell_type": "code",
   "execution_count": 20,
   "metadata": {},
   "outputs": [],
   "source": [
    "alerts = pd.read_excel(\"two_line_alerts_day.xlsx\")\n",
    "\n",
    "alerts.columns = alerts.columns.astype(str)\n",
    "alerts = alerts[[\"stockname\",\"alert_date\",\"date1\",\"value1\",\"date2\",\"value2\",\"buyORsell\"]]\n",
    "numeric_cols = alerts.select_dtypes(include='number').columns\n",
    "alerts[numeric_cols] = alerts[numeric_cols].round(3)\n",
    "\n",
    "current_date = pd.Timestamp.now()\n",
    "start_date = current_date - pd.Timedelta(days=days)\n",
    "filtered_alerts = alerts[alerts['alert_date'] > start_date]\n",
    "filtered_alerts = filtered_alerts.sort_values(by='alert_date')\n",
    "\n",
    "output_df_to_pdf(\"two Lines alert\",pdf, filtered_alerts)"
   ]
  },
  {
   "cell_type": "code",
   "execution_count": 21,
   "metadata": {},
   "outputs": [
    {
     "data": {
      "text/plain": [
       "''"
      ]
     },
     "execution_count": 21,
     "metadata": {},
     "output_type": "execute_result"
    }
   ],
   "source": [
    "pdf.output('fpdf_pdf_report.pdf', 'F')"
   ]
  },
  {
   "cell_type": "code",
   "execution_count": 57,
   "metadata": {},
   "outputs": [],
   "source": [
    "import datetime\n",
    "import yaml\n",
    "\n",
    "def yaml_file_edit(minutes,file_name):\n",
    "    current_time = datetime.datetime.now()\n",
    "    cron_time = current_time + datetime.timedelta(minutes=minutes)\n",
    "\n",
    "    cron_value = f\"{cron_time.minute} {cron_time.hour} {cron_time.day} {cron_time.month} *\"\n",
    "\n",
    "\n",
    "    yaml_file_path = f'.github\\\\workflows\\\\{file_name}.yml'\n",
    "    with open(yaml_file_path, 'r') as file:\n",
    "        yaml_data = yaml.safe_load(file)\n",
    "\n",
    "    print(yaml_data)\n",
    "    yaml_data['on']['schedule'][0]['cron'] = cron_value \n",
    "    # yaml_data['name']['True'] = False\n",
    "    # updated_yaml_content = yaml_data\n",
    "    # updated_yaml_content = {'on': yaml_data.pop(True, None)}\n",
    "    # updated_yaml_content.update(yaml_data)\n",
    "    with open(yaml_file_path, 'w') as file:\n",
    "        yaml.dump(yaml_data, file)"
   ]
  },
  {
   "cell_type": "code",
   "execution_count": 62,
   "metadata": {},
   "outputs": [
    {
     "name": "stdout",
     "output_type": "stream",
     "text": [
      "{'name': 'daily three_line_pattern_detect', 'on': {'push': {'branches': ['main']}, 'schedule': [{'cron': '20 16 16 5 *'}, {'cron': '45 15 * * mon-fri'}]}, 'jobs': {'build': {'runs-on': 'macos-latest', 'steps': [{'name': 'checkout repo content', 'uses': 'actions/checkout@v2'}, {'name': 'setup python', 'uses': 'actions/setup-python@v4', 'with': {'python-version': '3.11'}}, {'name': 'install python packages', 'run': 'python -m pip install --upgrade pip\\npip install -r requirements.txt\\n'}, {'env': {'BOT_TOKEN': '${{ secrets.BOT_TOKEN }}', 'CHAT_ID': '${{ secrets.CHAT_ID }}', 'SECRETS_GITHUB_TOKEN': '${{ secrets.SECRETS_GITHUB_TOKEN }}'}, 'name': 'execute py script', 'run': 'if [[ ${{ github.event_name }} == \\'push\\' ]]; then\\n  python three_line_pattern_detect.py \"60minute\"\\nelif [[ ${{ github.event_name }} == \\'schedule\\' ]]; then\\n  python three_line_pattern_detect.py \"60minute\"\\nfi\\n'}, {'name': 'commit files', 'run': 'git config --local user.email \"action@github.com\"\\ngit config --local user.name \"GitHub Action\"\\ngit add -A\\ngit diff-index --quiet HEAD || (git commit -a -m \"updated logs\" --allow-empty)\\n'}, {'name': 'push changes', 'uses': 'ad-m/github-push-action@v0.6.0', 'with': {'branch': 'main', 'github_token': '${{ secrets.SECRETS_GITHUB_TOKEN }}'}}]}}}\n"
     ]
    }
   ],
   "source": [
    "yaml_file_edit(5,\"60minute\")"
   ]
  },
  {
   "cell_type": "code",
   "execution_count": null,
   "metadata": {},
   "outputs": [],
   "source": [
    "yaml_data"
   ]
  },
  {
   "cell_type": "code",
   "execution_count": 66,
   "metadata": {},
   "outputs": [],
   "source": [
    "import line_pattern_pdf_report"
   ]
  },
  {
   "cell_type": "code",
   "execution_count": 67,
   "metadata": {},
   "outputs": [],
   "source": [
    "line_pattern_pdf_report.pdf_generater(\"day\")"
   ]
  },
  {
   "cell_type": "code",
   "execution_count": null,
   "metadata": {},
   "outputs": [],
   "source": [
    "import subprocess\n",
    "\n",
    "# Define the Git commands\n",
    "commands = [\n",
    "    [\"git\", \"add\", \".\"],  # Add all changes to the staging area\n",
    "    [\"git\", \"commit\", \"-m\", \"Your commit message\"],  # Commit changes with a message\n",
    "    [\"git\", \"push\", \"origin\", \"main\"]  # Push changes to the main branch\n",
    "]\n",
    "\n",
    "# Execute Git commands\n",
    "for command in commands:\n",
    "    try:\n",
    "        subprocess.run(command, check=True)  # Run the command\n",
    "        print(f\"Command executed successfully: {' '.join(command)}\")\n",
    "    except subprocess.CalledProcessError as e:\n",
    "        print(f\"Error executing command {' '.join(command)}: {e}\")\n"
   ]
  },
  {
   "cell_type": "code",
   "execution_count": 5,
   "metadata": {},
   "outputs": [
    {
     "name": "stderr",
     "output_type": "stream",
     "text": [
      "Error lines received while fetching: error: failed to push some refs to 'https://github.com/mailblogger2021/line_alerts.git'\n"
     ]
    }
   ],
   "source": [
    "from git import Repo\n",
    "\n",
    "PATH_OF_GIT_REPO = '.git'  # make sure .git folder is properly configured\n",
    "COMMIT_MESSAGE = 'comment from python script'\n",
    "\n",
    "def git_push():\n",
    "    try:\n",
    "        repo = Repo(PATH_OF_GIT_REPO)\n",
    "        repo.git.add('--all')\n",
    "        repo.index.commit(COMMIT_MESSAGE)\n",
    "        origin = repo.remote(name='origin')\n",
    "        origin.push()\n",
    "    except:\n",
    "        print('Some error occured while pushing the code')    \n",
    "\n",
    "git_push()"
   ]
  },
  {
   "cell_type": "code",
   "execution_count": null,
   "metadata": {},
   "outputs": [],
   "source": []
  }
 ],
 "metadata": {
  "kernelspec": {
   "display_name": "Python 3",
   "language": "python",
   "name": "python3"
  },
  "language_info": {
   "codemirror_mode": {
    "name": "ipython",
    "version": 3
   },
   "file_extension": ".py",
   "mimetype": "text/x-python",
   "name": "python",
   "nbconvert_exporter": "python",
   "pygments_lexer": "ipython3",
   "version": "3.12.3"
  }
 },
 "nbformat": 4,
 "nbformat_minor": 4
}
